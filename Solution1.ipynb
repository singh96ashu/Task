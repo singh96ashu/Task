{
 "cells": [
  {
   "cell_type": "code",
   "execution_count": 1,
   "metadata": {},
   "outputs": [],
   "source": [
    "def Min(a, low, high): \n",
    "# This condition is needed to handle the case when array is not \n",
    "# rotated at all \n",
    "    if high < low: \n",
    "        return a[0] \n",
    "\n",
    "# If there is only one element left \n",
    "    if high == low: \n",
    "        return a[low] \n",
    "# Find mid \n",
    "    mid = int((low + high)/2) \n",
    "# Check if element (mid+1) is minimum element. Consider \n",
    "# the cases like [3, 4, 5, 1, 2] \n",
    "    if mid < high and a[mid+1] < a[mid]: \n",
    "        return a[mid+1] \n",
    "\n",
    "# Check if mid itself is minimum element \n",
    "    if mid > low and a[mid] < a[mid - 1]: \n",
    "        return a[mid] \n",
    "\n",
    "# Decide whether we need to go to left half or right half \n",
    "    if a[high] > a[mid]: \n",
    "        return Min(a, low, mid-1) \n",
    "    return Min(a, mid+1, high) \n"
   ]
  },
  {
   "cell_type": "code",
   "execution_count": 2,
   "metadata": {},
   "outputs": [
    {
     "name": "stdout",
     "output_type": "stream",
     "text": [
      "Minimum element is 1\n",
      "Minimum element is 1\n",
      "Minimum element is 1\n",
      "Minimum element is 1\n",
      "Minimum element is 1\n",
      "Minimum element is 1\n",
      "Minimum element is 1\n",
      "Minimum element is 1\n",
      "Minimum element is 1\n"
     ]
    }
   ],
   "source": [
    "a1 = [5, 6, 1, 2, 3, 4] \n",
    "n1 = len(a1) \n",
    "print(\"Minimum element is \" + str(Min(a1, 0, n1-1))) \n",
    "a2 = [1, 2, 3, 4] \n",
    "n2 = len(a2) \n",
    "print(\"Minimum element is \" + str(Min(a2, 0, n2-1))) \n",
    "\n",
    "a3 = [1] \n",
    "n3 = len(a3) \n",
    "print(\"Minimum element is \" + str(Min(a3, 0, n3-1))) \n",
    "\n",
    "a4 = [1, 2] \n",
    "n4 = len(a4) \n",
    "print(\"Minimum element is \" + str(Min(a4, 0, n4-1))) \n",
    "\n",
    "a5 = [2, 1] \n",
    "n5 = len(a5) \n",
    "print(\"Minimum element is \" + str(Min(a5, 0, n5-1))) \n",
    "\n",
    "a6 = [5, 6, 7, 1, 2, 3, 4] \n",
    "n6 = len(a6) \n",
    "print(\"Minimum element is \" + str(Min(a6, 0, n6-1))) \n",
    "\n",
    "a7 = [1, 2, 3, 4, 5, 6, 7] \n",
    "n7 = len(a7) \n",
    "print(\"Minimum element is \" + str(Min(a7, 0, n7-1))) \n",
    "\n",
    "a8 = [2, 3, 4, 5, 6, 7, 8, 1] \n",
    "n8 = len(a8) \n",
    "print(\"Minimum element is \" + str(Min(a8, 0, n8-1))) \n",
    "\n",
    "a9 = [3, 4, 5, 1, 2] \n",
    "n9 = len(a9) \n",
    "print(\"Minimum element is \" + str(Min(a9, 0, n9-1)))"
   ]
  },
  {
   "cell_type": "code",
   "execution_count": null,
   "metadata": {},
   "outputs": [],
   "source": []
  }
 ],
 "metadata": {
  "kernelspec": {
   "display_name": "Python 3",
   "language": "python",
   "name": "python3"
  },
  "language_info": {
   "codemirror_mode": {
    "name": "ipython",
    "version": 3
   },
   "file_extension": ".py",
   "mimetype": "text/x-python",
   "name": "python",
   "nbconvert_exporter": "python",
   "pygments_lexer": "ipython3",
   "version": "3.7.9"
  }
 },
 "nbformat": 4,
 "nbformat_minor": 4
}
