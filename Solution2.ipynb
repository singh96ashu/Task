{
 "cells": [
  {
   "cell_type": "code",
   "execution_count": 1,
   "metadata": {},
   "outputs": [
    {
     "name": "stdout",
     "output_type": "stream",
     "text": [
      "2\n"
     ]
    }
   ],
   "source": [
    "def Dis(str1, str2, m, n):\n",
    "\n",
    "# If first string is empty, the only option is to insert all characters of second string into first\n",
    "    if m == 0:\n",
    "        return n\n",
    "\n",
    "# If second string is empty, the only option is to remove all characters of first string\n",
    "    if n == 0:\n",
    "        return m\n",
    "\n",
    "# If last characters of two strings are same, nothing much to do. Ignore last characters and get count for remaining strings.\n",
    "    if str1[m-1] == str2[n-1]:\n",
    "        return Dis(str1, str2, m-1, n-1)\n",
    "\n",
    "# If last characters are not same, consider all three operations on last character of first string,\n",
    "#recursively compute minimum cost for all three operations and take minimum of three values.\n",
    "    return 1 + min(Dis(str1, str2, m, n-1), # Insert\n",
    "                Dis(str1, str2, m-1, n), # Remove\n",
    "                Dis(str1, str2, m-1, n-1) # Replace\n",
    "                )\n",
    "\n",
    "\n",
    "#test\n",
    "str1 = \"week\"\n",
    "str2 = \"work\"\n",
    "Replace= Dis(str1, str2, len(str1), len(str2))\n",
    "\n",
    "print(Replace)"
   ]
  },
  {
   "cell_type": "code",
   "execution_count": null,
   "metadata": {},
   "outputs": [],
   "source": []
  }
 ],
 "metadata": {
  "kernelspec": {
   "display_name": "Python 3",
   "language": "python",
   "name": "python3"
  },
  "language_info": {
   "codemirror_mode": {
    "name": "ipython",
    "version": 3
   },
   "file_extension": ".py",
   "mimetype": "text/x-python",
   "name": "python",
   "nbconvert_exporter": "python",
   "pygments_lexer": "ipython3",
   "version": "3.7.9"
  }
 },
 "nbformat": 4,
 "nbformat_minor": 4
}
